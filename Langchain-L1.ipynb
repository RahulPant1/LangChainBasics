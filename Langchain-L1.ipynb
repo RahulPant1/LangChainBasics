{
 "cells": [
  {
   "cell_type": "code",
   "execution_count": 9,
   "id": "3de77462",
   "metadata": {},
   "outputs": [],
   "source": [
    "import os\n",
    "\n",
    "from dotenv import load_dotenv, find_dotenv\n",
    "_=load_dotenv(find_dotenv())"
   ]
  },
  {
   "cell_type": "code",
   "execution_count": 38,
   "id": "f0a777d3-8e28-4a57-a85d-e12548dfbf33",
   "metadata": {},
   "outputs": [],
   "source": [
    "# old\n",
    "#import openai\n",
    "#openai.api_key = os.environ['OPENAI_API_KEY']\n",
    "\n",
    "# new\n",
    "from openai import OpenAI\n",
    "\n",
    "client = OpenAI(\n",
    "  api_key=os.environ['OPENAI_API_KEY'],  # this is also the default, it can be omitted\n",
    ")"
   ]
  },
  {
   "cell_type": "code",
   "execution_count": null,
   "id": "37bcdfbf",
   "metadata": {},
   "outputs": [],
   "source": []
  },
  {
   "cell_type": "code",
   "execution_count": 39,
   "id": "65bca519",
   "metadata": {},
   "outputs": [],
   "source": [
    "# account for deprecation of LLM model\n",
    "import datetime\n",
    "# Get the current date\n",
    "current_date = datetime.datetime.now().date()\n",
    "\n",
    "# Define the date after which the model should be set to \"gpt-3.5-turbo\"\n",
    "target_date = datetime.date(2024, 6, 12)\n",
    "\n",
    "# Set the model variable based on the current date\n",
    "if current_date > target_date:\n",
    "    llm_model = \"gpt-3.5-turbo\"\n",
    "else:\n",
    "    llm_model = \"gpt-3.5-turbo-0613\""
   ]
  },
  {
   "cell_type": "code",
   "execution_count": 12,
   "id": "d76a83e3",
   "metadata": {},
   "outputs": [
    {
     "data": {
      "text/plain": [
       "datetime.date(2024, 3, 4)"
      ]
     },
     "execution_count": 12,
     "metadata": {},
     "output_type": "execute_result"
    }
   ],
   "source": [
    "current_date"
   ]
  },
  {
   "cell_type": "markdown",
   "id": "4080ddd0",
   "metadata": {},
   "source": [
    "# Chat API\n",
    "#### Direct API calls to OpenAI"
   ]
  },
  {
   "cell_type": "code",
   "execution_count": 40,
   "id": "4d1c5440",
   "metadata": {},
   "outputs": [],
   "source": [
    "def get_completion(prompt,model=llm_model):\n",
    "    messages= [{\"role\":\"user\", \"content\":prompt}]\n",
    "    response=client.chat.completions.create(\n",
    "        model=model,\n",
    "        messages=messages,\n",
    "        temperature=0\n",
    "    )\n",
    "    return response.choices[0].message.content"
   ]
  },
  {
   "cell_type": "code",
   "execution_count": null,
   "id": "993dca23-39a9-4bdb-8810-7b78a1481d20",
   "metadata": {},
   "outputs": [],
   "source": []
  },
  {
   "cell_type": "code",
   "execution_count": 16,
   "id": "774f8118",
   "metadata": {},
   "outputs": [
    {
     "data": {
      "text/plain": [
       "'1+1 equals 2.'"
      ]
     },
     "execution_count": 16,
     "metadata": {},
     "output_type": "execute_result"
    }
   ],
   "source": [
    "get_completion(\"What is 1+1?\")"
   ]
  },
  {
   "cell_type": "code",
   "execution_count": 17,
   "id": "d1fbfa2e",
   "metadata": {},
   "outputs": [
    {
     "data": {
      "text/plain": [
       "\"Newton's third law of motion states that for every action, there is an equal and opposite reaction. This means that whenever an object exerts a force on another object, the second object exerts an equal and opposite force back on the first object. In simpler terms, it means that forces always occur in pairs.\""
      ]
     },
     "execution_count": 17,
     "metadata": {},
     "output_type": "execute_result"
    }
   ],
   "source": [
    "get_completion(\"What is Newton third law?\")"
   ]
  },
  {
   "cell_type": "code",
   "execution_count": 18,
   "id": "03400eb6",
   "metadata": {},
   "outputs": [],
   "source": [
    "customer_email = \"\"\"\n",
    "Arrr, I be fuming that me blender lid \\\n",
    "flew off and splattered me kitchen walls \\\n",
    "with smoothie! And to make matters worse,\\\n",
    "the warranty don't cover the cost of \\\n",
    "cleaning up me kitchen. I need yer help \\\n",
    "right now, matey!\n",
    "\"\"\""
   ]
  },
  {
   "cell_type": "code",
   "execution_count": 19,
   "id": "7bd0445f",
   "metadata": {},
   "outputs": [],
   "source": [
    "style= \"\"\" Provide a respectful and calm english tone\"\"\""
   ]
  },
  {
   "cell_type": "code",
   "execution_count": 20,
   "id": "ef9194c9",
   "metadata": {},
   "outputs": [],
   "source": [
    "prompt= f\"\"\" Translate the text that is delimited by triple backticks into a style that is {style}.\\\n",
    "text: ```{customer_email}```\"\"\"\n"
   ]
  },
  {
   "cell_type": "code",
   "execution_count": 21,
   "id": "7cb342df",
   "metadata": {},
   "outputs": [
    {
     "data": {
      "text/plain": [
       "'I am quite frustrated that my blender lid flew off and made a mess of my kitchen walls with smoothie! To add to my troubles, the warranty does not cover the expenses of cleaning up my kitchen. I kindly request your assistance at this moment, my friend.'"
      ]
     },
     "execution_count": 21,
     "metadata": {},
     "output_type": "execute_result"
    }
   ],
   "source": [
    "get_completion(prompt)"
   ]
  },
  {
   "cell_type": "markdown",
   "id": "3b38f4c3",
   "metadata": {},
   "source": [
    "## Using Langchain"
   ]
  },
  {
   "cell_type": "code",
   "execution_count": 41,
   "id": "ac3602cc",
   "metadata": {},
   "outputs": [],
   "source": [
    "#from langchain.chat_models import ChatOpenAI\n",
    "from langchain_openai import ChatOpenAI"
   ]
  },
  {
   "cell_type": "markdown",
   "id": "11c612f7-9644-4cba-8e08-2a35cdb932a7",
   "metadata": {},
   "source": [
    "### Model"
   ]
  },
  {
   "cell_type": "code",
   "execution_count": 25,
   "id": "7125447c-e9cb-4132-abb7-39bb99f1f0e6",
   "metadata": {},
   "outputs": [
    {
     "data": {
      "text/plain": [
       "ChatOpenAI(client=<openai.resources.chat.completions.Completions object at 0x7f1ac09f0dc0>, async_client=<openai.resources.chat.completions.AsyncCompletions object at 0x7f1ac09f2230>, model_name='gpt-3.5-turbo-0613', temperature=0.0, openai_api_key=SecretStr('**********'), openai_proxy='')"
      ]
     },
     "execution_count": 25,
     "metadata": {},
     "output_type": "execute_result"
    }
   ],
   "source": [
    "# To control the randomness and creativity of the generated\n",
    "# text by an LLM, use temperature = 0.0\n",
    "chat = ChatOpenAI(temperature=0.0, model=llm_model)\n",
    "chat"
   ]
  },
  {
   "cell_type": "markdown",
   "id": "4c829b7c-5c4d-41b7-a520-e0b7d671b34a",
   "metadata": {},
   "source": [
    "### Prompt Template"
   ]
  },
  {
   "cell_type": "markdown",
   "id": "1be92bce-5d50-4477-b0b3-270c6a146796",
   "metadata": {},
   "source": [
    "##### Example 1"
   ]
  },
  {
   "cell_type": "code",
   "execution_count": 27,
   "id": "2a2b2bf0-971e-4ab1-a902-fa9495d2ed9f",
   "metadata": {},
   "outputs": [],
   "source": [
    "template_string=\"\"\"Transalte the text that is delimited by triple backtick into a style : {style}.\\\n",
    "text:```{text}``` \"\"\""
   ]
  },
  {
   "cell_type": "code",
   "execution_count": 26,
   "id": "d874bba4-1a2a-4236-bc1b-8b11b363b7ad",
   "metadata": {},
   "outputs": [],
   "source": [
    "from langchain.prompts import ChatPromptTemplate"
   ]
  },
  {
   "cell_type": "code",
   "execution_count": 29,
   "id": "3e2bac99-a606-4b9e-8f42-398e538588e8",
   "metadata": {},
   "outputs": [
    {
     "data": {
      "text/plain": [
       "PromptTemplate(input_variables=['style', 'text'], template='Transalte the text that is delimited by triple backtick into a style : {style}.text:```{text}``` ')"
      ]
     },
     "execution_count": 29,
     "metadata": {},
     "output_type": "execute_result"
    }
   ],
   "source": [
    "prompt_template=ChatPromptTemplate.from_template(template_string)\n",
    "prompt_template.messages[0].prompt"
   ]
  },
  {
   "cell_type": "code",
   "execution_count": 30,
   "id": "4863591b-4211-4293-823b-5483e852af54",
   "metadata": {},
   "outputs": [
    {
     "data": {
      "text/plain": [
       "['style', 'text']"
      ]
     },
     "execution_count": 30,
     "metadata": {},
     "output_type": "execute_result"
    }
   ],
   "source": [
    "prompt_template.messages[0].prompt.input_variables"
   ]
  },
  {
   "cell_type": "code",
   "execution_count": 31,
   "id": "7d9f9102-8f53-4c56-9cc3-3a3968bb52d7",
   "metadata": {},
   "outputs": [],
   "source": [
    "customer_style = \"\"\"American English \\\n",
    "in a calm and respectful tone\n",
    "\"\"\""
   ]
  },
  {
   "cell_type": "code",
   "execution_count": 32,
   "id": "9a124e89-810e-4e9d-8482-386992dd7e1f",
   "metadata": {},
   "outputs": [],
   "source": [
    "customer_email = \"\"\"\n",
    "Arrr, I be fuming that me blender lid \\\n",
    "flew off and splattered me kitchen walls \\\n",
    "with smoothie! And to make matters worse, \\\n",
    "the warranty don't cover the cost of \\\n",
    "cleaning up me kitchen. I need yer help \\\n",
    "right now, matey!\n",
    "\"\"\""
   ]
  },
  {
   "cell_type": "code",
   "execution_count": 33,
   "id": "1ddc50eb-f694-446b-9865-92a192b1b49b",
   "metadata": {},
   "outputs": [],
   "source": [
    "customer_messages = prompt_template.format_messages(\n",
    "                    style=customer_style,\n",
    "                    text=customer_email)"
   ]
  },
  {
   "cell_type": "code",
   "execution_count": 34,
   "id": "84f19864-b3e8-4877-b7c6-8fb802a4450b",
   "metadata": {},
   "outputs": [
    {
     "name": "stdout",
     "output_type": "stream",
     "text": [
      "<class 'list'>\n",
      "<class 'langchain_core.messages.human.HumanMessage'>\n"
     ]
    }
   ],
   "source": [
    "print(type(customer_messages))\n",
    "print(type(customer_messages[0]))"
   ]
  },
  {
   "cell_type": "code",
   "execution_count": 35,
   "id": "5466ae58-9881-4090-bcf4-e458af927ec5",
   "metadata": {},
   "outputs": [
    {
     "name": "stdout",
     "output_type": "stream",
     "text": [
      "content=\"Transalte the text that is delimited by triple backtick into a style : American English in a calm and respectful tone\\n.text:```\\nArrr, I be fuming that me blender lid flew off and splattered me kitchen walls with smoothie! And to make matters worse, the warranty don't cover the cost of cleaning up me kitchen. I need yer help right now, matey!\\n``` \"\n"
     ]
    }
   ],
   "source": [
    "print(customer_messages[0])"
   ]
  },
  {
   "cell_type": "code",
   "execution_count": 42,
   "id": "abbd1243-975b-485f-8df2-f49ce5c31cee",
   "metadata": {},
   "outputs": [],
   "source": [
    "# Call the LLM to translate to the style of the customer message\n",
    "customer_response = chat.invoke(customer_messages)"
   ]
  },
  {
   "cell_type": "code",
   "execution_count": 43,
   "id": "b52722bc-8945-4ddf-ad19-12c5450fbc82",
   "metadata": {},
   "outputs": [
    {
     "data": {
      "text/plain": [
       "AIMessage(content='I am quite frustrated that my blender lid unexpectedly flew off and caused a messy splatter of smoothie all over my kitchen walls. To add to my dismay, the warranty does not cover the expenses for cleaning up my kitchen. I kindly request your assistance at this moment, my friend.')"
      ]
     },
     "execution_count": 43,
     "metadata": {},
     "output_type": "execute_result"
    }
   ],
   "source": [
    "customer_response"
   ]
  },
  {
   "cell_type": "code",
   "execution_count": 44,
   "id": "4a78ca34-3108-432d-993e-a914befc01c6",
   "metadata": {},
   "outputs": [
    {
     "name": "stdout",
     "output_type": "stream",
     "text": [
      "I am quite frustrated that my blender lid unexpectedly flew off and caused a messy splatter of smoothie all over my kitchen walls. To add to my dismay, the warranty does not cover the expenses for cleaning up my kitchen. I kindly request your assistance at this moment, my friend.\n"
     ]
    }
   ],
   "source": [
    "print(customer_response.content)"
   ]
  },
  {
   "cell_type": "markdown",
   "id": "e0be4a4a-2b45-4ceb-9710-49ab04be75fb",
   "metadata": {},
   "source": [
    "##### Example 2"
   ]
  },
  {
   "cell_type": "code",
   "execution_count": 47,
   "id": "cd44ac56-026c-4415-8fe5-41d677708dc1",
   "metadata": {},
   "outputs": [],
   "source": [
    "service_reply = \"\"\"Hey there customer, \\\n",
    "the warranty does not cover \\\n",
    "cleaning expenses for your kitchen \\\n",
    "because it's your fault that \\\n",
    "you misused your blender \\\n",
    "by forgetting to put the lid on before \\\n",
    "starting the blender. Tough luck! See ya! \"\"\""
   ]
  },
  {
   "cell_type": "code",
   "execution_count": 49,
   "id": "a4bf8e0b-ac1f-4323-9c19-df08138fd8d4",
   "metadata": {},
   "outputs": [],
   "source": [
    "service_style_gentle= \"\"\" convert the input into a polite English service tone\"\"\""
   ]
  },
  {
   "cell_type": "code",
   "execution_count": 51,
   "id": "4e07bdb6-6bdf-4f29-8880-2dc821302f50",
   "metadata": {},
   "outputs": [],
   "source": [
    "service_message= prompt_template.format_messages(style=service_style_gentle, text=service_reply)"
   ]
  },
  {
   "cell_type": "code",
   "execution_count": 54,
   "id": "4b0e2f19-aea4-4da0-8e69-9b7b82a7f3b5",
   "metadata": {},
   "outputs": [],
   "source": [
    "service_response=chat.invoke(service_message)"
   ]
  },
  {
   "cell_type": "code",
   "execution_count": 55,
   "id": "fa45d7aa-bb6b-41ad-9356-9bda4fdf5d80",
   "metadata": {},
   "outputs": [
    {
     "name": "stdout",
     "output_type": "stream",
     "text": [
      "Hey there customer, we regret to inform you that the warranty does not cover the expenses related to cleaning your kitchen. This is due to the fact that it appears you may have misused your blender by forgetting to put the lid on before starting it. We understand this may be disappointing news. Thank you for your understanding and have a great day!\n"
     ]
    }
   ],
   "source": [
    "print(service_response.content)"
   ]
  },
  {
   "cell_type": "markdown",
   "id": "90124bde-ed6d-409b-a883-d46a5a5231c3",
   "metadata": {},
   "source": [
    "## Output Parsers\n",
    "\n",
    "Let's start with defining how we would like the LLM output to look like:"
   ]
  },
  {
   "cell_type": "code",
   "execution_count": 56,
   "id": "97db6776-ba4a-49d0-9186-13e249a9b115",
   "metadata": {},
   "outputs": [
    {
     "data": {
      "text/plain": [
       "{'gift': False, 'delivery_days': 5, 'price_value': 'pretty affordable!'}"
      ]
     },
     "execution_count": 56,
     "metadata": {},
     "output_type": "execute_result"
    }
   ],
   "source": [
    "{\n",
    "  \"gift\": False,\n",
    "  \"delivery_days\": 5,\n",
    "  \"price_value\": \"pretty affordable!\"\n",
    "}"
   ]
  },
  {
   "cell_type": "code",
   "execution_count": 57,
   "id": "a60c981b-83e2-40e4-91dc-8d681676b184",
   "metadata": {},
   "outputs": [],
   "source": [
    "customer_review = \"\"\"\\\n",
    "This leaf blower is pretty amazing.  It has four settings:\\\n",
    "candle blower, gentle breeze, windy city, and tornado. \\\n",
    "It arrived in two days, just in time for my wife's \\\n",
    "anniversary present. \\\n",
    "I think my wife liked it so much she was speechless. \\\n",
    "So far I've been the only one using it, and I've been \\\n",
    "using it every other morning to clear the leaves on our lawn. \\\n",
    "It's slightly more expensive than the other leaf blowers \\\n",
    "out there, but I think it's worth it for the extra features.\n",
    "\"\"\"\n",
    "\n",
    "\n",
    "review_template=\"\"\" For the following text, extract the following information:\n",
    "\n",
    "gift: Was the item purchased as a gift for someone. If yes, keep this True else False.\n",
    "\n",
    "delivery_days: If the delivery duration information is available keep this as the value avaialbel else keep it as -1.\n",
    "\n",
    "price_value: Extract any sentences about the value or price,and output them as a comma separated Python list.\n",
    "\n",
    "Then format the above infomration as a JSON output with following keys:\n",
    "gift\n",
    "delivery_days\n",
    "price_value\n",
    "text: {text} \"\"\""
   ]
  },
  {
   "cell_type": "code",
   "execution_count": 62,
   "id": "6fc9aaf8-9889-45f3-852e-50d328aa31fe",
   "metadata": {},
   "outputs": [],
   "source": [
    "review_prompt_template=ChatPromptTemplate.from_template(review_template)"
   ]
  },
  {
   "cell_type": "code",
   "execution_count": 65,
   "id": "05293970-6b5e-40da-94a3-f6b9430250d9",
   "metadata": {},
   "outputs": [],
   "source": [
    "review_message=review_prompt_template.format_messages(text=customer_review)"
   ]
  },
  {
   "cell_type": "code",
   "execution_count": 69,
   "id": "4bda9523-5bcd-4f9a-85bd-d8bf5541819e",
   "metadata": {},
   "outputs": [],
   "source": [
    "response=chat.invoke(review_message)"
   ]
  },
  {
   "cell_type": "code",
   "execution_count": 70,
   "id": "001a9cdc-836c-4d0d-aed6-53c194ba2f81",
   "metadata": {},
   "outputs": [
    {
     "name": "stdout",
     "output_type": "stream",
     "text": [
      "{\n",
      "  \"gift\": false,\n",
      "  \"delivery_days\": 2,\n",
      "  \"price_value\": [\"It's slightly more expensive than the other leaf blowers out there\"],\n",
      "  \"text\": \"This leaf blower is pretty amazing. It has four settings: candle blower, gentle breeze, windy city, and tornado. It arrived in two days, just in time for my wife's anniversary present. I think my wife liked it so much she was speechless. So far I've been the only one using it, and I've been using it every other morning to clear the leaves on our lawn. It's slightly more expensive than the other leaf blowers out there, but I think it's worth it for the extra features.\"\n",
      "}\n"
     ]
    }
   ],
   "source": [
    "print(response.content)"
   ]
  },
  {
   "cell_type": "code",
   "execution_count": 71,
   "id": "e1771f7f-3c4a-4373-954c-b4d288be9861",
   "metadata": {},
   "outputs": [
    {
     "data": {
      "text/plain": [
       "str"
      ]
     },
     "execution_count": 71,
     "metadata": {},
     "output_type": "execute_result"
    }
   ],
   "source": [
    "type(response.content)"
   ]
  },
  {
   "cell_type": "markdown",
   "id": "de6fa99c-6c8b-4bd5-b2fa-a16883223860",
   "metadata": {},
   "source": [
    "### Parse the LLM output string into a Python dictionary\n",
    "We will now format the output by giving specifi foramt instructions using below libraries"
   ]
  },
  {
   "cell_type": "code",
   "execution_count": 72,
   "id": "653e1f8c-ef9a-4964-8d49-f82b9d0c5beb",
   "metadata": {},
   "outputs": [],
   "source": [
    "from langchain.output_parsers import ResponseSchema\n",
    "from langchain.output_parsers import StructuredOutputParser"
   ]
  },
  {
   "cell_type": "code",
   "execution_count": 75,
   "id": "5727636a-fe07-403d-bc4a-b8b61befe5b4",
   "metadata": {},
   "outputs": [],
   "source": [
    "gift_schema= ResponseSchema(name=\"gift\", description=\"Was the item purchased  as a gift for someone else? \\\n",
    "                             Answer True if yes,False if not or unknown.\")\n",
    "\n",
    "\n",
    "delivery_days_schema = ResponseSchema(name=\"delivery_days\",\n",
    "                                      description=\"How many days\\\n",
    "                                      did it take for the product\\\n",
    "                                      to arrive? If this \\\n",
    "                                      information is not found,\\\n",
    "                                      output -1.\")\n",
    "price_value_schema = ResponseSchema(name=\"price_value\",\n",
    "                                    description=\"Extract any\\\n",
    "                                    sentences about the value or \\\n",
    "                                    price, and output them as a \\\n",
    "                                    comma separated Python list.\")\n",
    "\n",
    "response_schema= [gift_schema, delivery_days_schema, price_value_schema]"
   ]
  },
  {
   "cell_type": "code",
   "execution_count": 78,
   "id": "effd1f0d-f65b-483f-9898-2e2351a913e4",
   "metadata": {},
   "outputs": [],
   "source": [
    "output_parser=StructuredOutputParser.from_response_schemas(response_schema)"
   ]
  },
  {
   "cell_type": "code",
   "execution_count": 80,
   "id": "679e8ade-0775-4d2a-bd4a-fb238a9ef4d3",
   "metadata": {},
   "outputs": [],
   "source": [
    "format_instructions = output_parser.get_format_instructions()"
   ]
  },
  {
   "cell_type": "code",
   "execution_count": 82,
   "id": "9e6a61d8-3d57-4880-a64f-2f3020857b52",
   "metadata": {},
   "outputs": [
    {
     "name": "stdout",
     "output_type": "stream",
     "text": [
      "The output should be a markdown code snippet formatted in the following schema, including the leading and trailing \"```json\" and \"```\":\n",
      "\n",
      "```json\n",
      "{\n",
      "\t\"gift\": string  // Was the item purchased  as a gift for someone else?                              Answer True if yes,False if not or unknown.\n",
      "\t\"delivery_days\": string  // How many days                                      did it take for the product                                      to arrive? If this                                       information is not found,                                      output -1.\n",
      "\t\"price_value\": string  // Extract any                                    sentences about the value or                                     price, and output them as a                                     comma separated Python list.\n",
      "}\n",
      "```\n"
     ]
    }
   ],
   "source": [
    "print(format_instructions)"
   ]
  },
  {
   "cell_type": "code",
   "execution_count": 83,
   "id": "3d1ce9da-448a-47f3-b2aa-39f06b1d4527",
   "metadata": {},
   "outputs": [],
   "source": [
    "review_template_with_format=\"\"\" For the following text, extract the following information:\n",
    "\n",
    "gift: Was the item purchased as a gift for someone. If yes, keep this True else False.\n",
    "\n",
    "delivery_days: If the delivery duration information is available keep this as the value avaialbel else keep it as -1.\n",
    "\n",
    "price_value: Extract any sentences about the value or price,and output them as a comma separated Python list.\n",
    "\n",
    "Then format the above infomration as a JSON output with following keys:\n",
    "gift\n",
    "delivery_days\n",
    "price_value\n",
    "text: {text} \n",
    "{format_instructions} \"\"\""
   ]
  },
  {
   "cell_type": "code",
   "execution_count": 85,
   "id": "74279566-1567-4c01-9cf6-2ff7e6d57b2c",
   "metadata": {},
   "outputs": [],
   "source": [
    "review_prompt_template_2=ChatPromptTemplate.from_template(review_template_with_format)\n",
    "review_message_2=review_prompt_template_2.format_messages(text=customer_review, format_instructions=format_instructions)\n"
   ]
  },
  {
   "cell_type": "code",
   "execution_count": 88,
   "id": "6696851e-cbb2-4e28-b24b-af63889f9628",
   "metadata": {},
   "outputs": [
    {
     "data": {
      "text/plain": [
       "' For the following text, extract the following information:\\n\\ngift: Was the item purchased as a gift for someone. If yes, keep this True else False.\\n\\ndelivery_days: If the delivery duration information is available keep this as the value avaialbel else keep it as -1.\\n\\nprice_value: Extract any sentences about the value or price,and output them as a comma separated Python list.\\n\\nThen format the above infomration as a JSON output with following keys:\\ngift\\ndelivery_days\\nprice_value\\ntext: This leaf blower is pretty amazing.  It has four settings:candle blower, gentle breeze, windy city, and tornado. It arrived in two days, just in time for my wife\\'s anniversary present. I think my wife liked it so much she was speechless. So far I\\'ve been the only one using it, and I\\'ve been using it every other morning to clear the leaves on our lawn. It\\'s slightly more expensive than the other leaf blowers out there, but I think it\\'s worth it for the extra features.\\n \\nThe output should be a markdown code snippet formatted in the following schema, including the leading and trailing \"```json\" and \"```\":\\n\\n```json\\n{\\n\\t\"gift\": string  // Was the item purchased  as a gift for someone else?                              Answer True if yes,False if not or unknown.\\n\\t\"delivery_days\": string  // How many days                                      did it take for the product                                      to arrive? If this                                       information is not found,                                      output -1.\\n\\t\"price_value\": string  // Extract any                                    sentences about the value or                                     price, and output them as a                                     comma separated Python list.\\n}\\n``` '"
      ]
     },
     "execution_count": 88,
     "metadata": {},
     "output_type": "execute_result"
    }
   ],
   "source": [
    "review_message_2[0].content"
   ]
  },
  {
   "cell_type": "code",
   "execution_count": 89,
   "id": "77319286-077e-42e5-b868-0dceaa775c76",
   "metadata": {},
   "outputs": [],
   "source": [
    "response=chat.invoke(review_message_2)"
   ]
  },
  {
   "cell_type": "code",
   "execution_count": 91,
   "id": "55ac3d8e-1cdf-4e43-9a3b-6e1d3f6a0d8e",
   "metadata": {},
   "outputs": [
    {
     "name": "stdout",
     "output_type": "stream",
     "text": [
      "```json\n",
      "{\n",
      "\t\"gift\": false,\n",
      "\t\"delivery_days\": \"2\",\n",
      "\t\"price_value\": \"It's slightly more expensive than the other leaf blowers out there\"\n",
      "}\n",
      "```\n"
     ]
    }
   ],
   "source": [
    "print(response.content)"
   ]
  },
  {
   "cell_type": "code",
   "execution_count": 92,
   "id": "78f0ca91-0a7e-449b-857a-7aae523b1795",
   "metadata": {},
   "outputs": [],
   "source": [
    "output_dict = output_parser.parse(response.content)"
   ]
  },
  {
   "cell_type": "code",
   "execution_count": 93,
   "id": "5df01ea7-7e5d-4747-ae5c-637820514455",
   "metadata": {},
   "outputs": [
    {
     "data": {
      "text/plain": [
       "{'gift': False,\n",
       " 'delivery_days': '2',\n",
       " 'price_value': \"It's slightly more expensive than the other leaf blowers out there\"}"
      ]
     },
     "execution_count": 93,
     "metadata": {},
     "output_type": "execute_result"
    }
   ],
   "source": [
    "output_dict"
   ]
  },
  {
   "cell_type": "code",
   "execution_count": 94,
   "id": "c48fe1ff-4dc1-44bd-8964-261bebd2c8bc",
   "metadata": {},
   "outputs": [
    {
     "data": {
      "text/plain": [
       "dict"
      ]
     },
     "execution_count": 94,
     "metadata": {},
     "output_type": "execute_result"
    }
   ],
   "source": [
    "type(output_dict)"
   ]
  },
  {
   "cell_type": "code",
   "execution_count": 95,
   "id": "6de916f2-840e-4010-967c-0199a81cd51b",
   "metadata": {},
   "outputs": [
    {
     "data": {
      "text/plain": [
       "\"It's slightly more expensive than the other leaf blowers out there\""
      ]
     },
     "execution_count": 95,
     "metadata": {},
     "output_type": "execute_result"
    }
   ],
   "source": [
    "output_dict.get('price_value')"
   ]
  },
  {
   "cell_type": "code",
   "execution_count": null,
   "id": "46b7a597-f932-4c8e-8865-4ce05ac18365",
   "metadata": {},
   "outputs": [],
   "source": []
  },
  {
   "cell_type": "code",
   "execution_count": null,
   "id": "e95aa99c-b456-4c1a-a0fd-66e337ed545f",
   "metadata": {},
   "outputs": [],
   "source": []
  },
  {
   "cell_type": "code",
   "execution_count": null,
   "id": "3c54d254-437d-446e-b58d-3bf73fac1cf6",
   "metadata": {},
   "outputs": [],
   "source": []
  },
  {
   "cell_type": "code",
   "execution_count": null,
   "id": "00e32253-a156-4132-9ae5-ba9b23bf3f2f",
   "metadata": {},
   "outputs": [],
   "source": []
  },
  {
   "cell_type": "code",
   "execution_count": null,
   "id": "24e076c0-321d-44bd-83d5-d05eca2d4511",
   "metadata": {},
   "outputs": [],
   "source": []
  },
  {
   "cell_type": "code",
   "execution_count": null,
   "id": "09c5e3da-25d6-4f65-8629-0d24ec237978",
   "metadata": {},
   "outputs": [],
   "source": []
  },
  {
   "cell_type": "code",
   "execution_count": null,
   "id": "0fd1e360-114a-4c21-9c09-fb639b037514",
   "metadata": {},
   "outputs": [],
   "source": []
  }
 ],
 "metadata": {
  "kernelspec": {
   "display_name": "Python 3 (ipykernel)",
   "language": "python",
   "name": "python3"
  },
  "language_info": {
   "codemirror_mode": {
    "name": "ipython",
    "version": 3
   },
   "file_extension": ".py",
   "mimetype": "text/x-python",
   "name": "python",
   "nbconvert_exporter": "python",
   "pygments_lexer": "ipython3",
   "version": "3.10.13"
  }
 },
 "nbformat": 4,
 "nbformat_minor": 5
}
