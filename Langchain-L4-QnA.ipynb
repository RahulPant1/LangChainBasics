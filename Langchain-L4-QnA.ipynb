{
 "cells": [
  {
   "cell_type": "code",
   "execution_count": 1,
   "id": "cc52f73f-dbf7-48e3-bf86-1433f7d371f8",
   "metadata": {},
   "outputs": [],
   "source": [
    "import os\n",
    "\n",
    "from dotenv import load_dotenv, find_dotenv\n",
    "_ = load_dotenv(find_dotenv()) # read local .env file"
   ]
  },
  {
   "cell_type": "code",
   "execution_count": 2,
   "id": "5e15c219-b8f9-4b04-8277-6634e084a569",
   "metadata": {},
   "outputs": [],
   "source": [
    "# account for deprecation of LLM model\n",
    "import datetime\n",
    "# Get the current date\n",
    "current_date = datetime.datetime.now().date()\n",
    "\n",
    "# Define the date after which the model should be set to \"gpt-3.5-turbo\"\n",
    "target_date = datetime.date(2024, 6, 12)\n",
    "\n",
    "# Set the model variable based on the current date\n",
    "if current_date > target_date:\n",
    "    llm_model = \"gpt-3.5-turbo\"\n",
    "else:\n",
    "    llm_model = \"gpt-3.5-turbo-0301\""
   ]
  },
  {
   "cell_type": "code",
   "execution_count": 3,
   "id": "f40bbd0d-ffe1-4042-b5d2-cc383ee6177a",
   "metadata": {},
   "outputs": [],
   "source": [
    "from langchain.document_loaders import CSVLoader\n",
    "loader=CSVLoader(file_path=\"OutdoorClothingCatalog_1000.csv\")"
   ]
  },
  {
   "cell_type": "code",
   "execution_count": 4,
   "id": "565946a3-b00a-4bd0-aa02-8d4b676eaedf",
   "metadata": {},
   "outputs": [],
   "source": [
    "# For creating vector store\n",
    "from langchain.indexes import VectorstoreIndexCreator\n",
    "#from langchain.vectorstores import DocArrayInMemorySearch\n",
    "from langchain_community.vectorstores import DocArrayInMemorySearch\n",
    "from IPython.display import display, Markdown\n",
    "from langchain_openai import OpenAIEmbeddings\n",
    "from langchain_openai import ChatOpenAI"
   ]
  },
  {
   "cell_type": "code",
   "execution_count": null,
   "id": "ec174d60-4964-4840-81aa-7fae03c87d58",
   "metadata": {},
   "outputs": [],
   "source": [
    "index= VectorstoreIndexCreator(vectorstore_cls=DocArrayInMemorySearch).from_loaders([loader])"
   ]
  },
  {
   "cell_type": "code",
   "execution_count": 6,
   "id": "1452fef6-6636-473d-b874-a133227c63c3",
   "metadata": {},
   "outputs": [],
   "source": [
    "query =\"Please list all your shirts with sun protection in a table in markdown and summarize\""
   ]
  },
  {
   "cell_type": "code",
   "execution_count": 7,
   "id": "ff89fab6-b166-45bc-bfa0-8f19548fd19e",
   "metadata": {},
   "outputs": [],
   "source": [
    "response=index.query(query)"
   ]
  },
  {
   "cell_type": "code",
   "execution_count": 8,
   "id": "760f1c95-4715-43b0-96aa-cc9e2206583b",
   "metadata": {},
   "outputs": [
    {
     "data": {
      "text/markdown": [
       "\n",
       "\n",
       "| Name | Description | Sun Protection Rating |\n",
       "|------|-------------|-----------------------|\n",
       "| Men's Tropical Plaid Short-Sleeve Shirt | Made of 100% polyester, UPF 50+ rated, front and back cape venting | SPF 50+ |\n",
       "| Men's Plaid Tropic Shirt, Short-Sleeve | Made of 52% polyester and 48% nylon, UPF 50+ rated, front and back cape venting | SPF 50+ |\n",
       "| Men's TropicVibe Shirt, Short-Sleeve | Made of 71% nylon and 29% polyester, UPF 50+ rated, front and back cape venting | SPF 50+ |\n",
       "| Sun Shield Shirt | Made of 78% nylon and 22% Lycra Xtra Life fiber, UPF 50+ rated, wicks moisture | SPF 50+ |\n",
       "\n",
       "Summary: All four shirts listed have sun protection ratings of SPF 50+ and are made of lightweight, quick-drying fabrics. They also feature front and back cape venting for added breathability."
      ],
      "text/plain": [
       "<IPython.core.display.Markdown object>"
      ]
     },
     "metadata": {},
     "output_type": "display_data"
    }
   ],
   "source": [
    "display(Markdown(response))"
   ]
  },
  {
   "cell_type": "code",
   "execution_count": 11,
   "id": "de2d4428-f4ae-49cf-8566-70b890f8a303",
   "metadata": {},
   "outputs": [],
   "source": [
    "embeddings= OpenAIEmbeddings()"
   ]
  },
  {
   "cell_type": "code",
   "execution_count": 12,
   "id": "eab44dcc-2e9d-47af-a024-aa08346a583d",
   "metadata": {},
   "outputs": [],
   "source": [
    "embed=embeddings.embed_query(\"Hola! my name art thy Roul\")"
   ]
  },
  {
   "cell_type": "code",
   "execution_count": 13,
   "id": "ab47eb9c-32e5-4182-bc16-baf652a58384",
   "metadata": {},
   "outputs": [
    {
     "data": {
      "text/plain": [
       "1536"
      ]
     },
     "execution_count": 13,
     "metadata": {},
     "output_type": "execute_result"
    }
   ],
   "source": [
    "len(embed)"
   ]
  },
  {
   "cell_type": "code",
   "execution_count": 14,
   "id": "d74e8dc0-00d3-474e-93f0-b514443636ff",
   "metadata": {},
   "outputs": [
    {
     "data": {
      "text/plain": [
       "[-0.021577656707560115,\n",
       " 0.0024449621110492667,\n",
       " -0.01408614777190077,\n",
       " -0.02516514083052186,\n",
       " -0.011065802737867392]"
      ]
     },
     "execution_count": 14,
     "metadata": {},
     "output_type": "execute_result"
    }
   ],
   "source": [
    "embed[:5]"
   ]
  },
  {
   "cell_type": "code",
   "execution_count": 15,
   "id": "5dfc8fea-23e2-4ca0-a7c2-9f05b522862b",
   "metadata": {},
   "outputs": [],
   "source": [
    "loader=CSVLoader(file_path=\"OutdoorClothingCatalog_1000.csv\")\n",
    "docs=loader.load()"
   ]
  },
  {
   "cell_type": "code",
   "execution_count": 16,
   "id": "43e25aed-b473-431c-bbfd-1b65d0d349a1",
   "metadata": {},
   "outputs": [
    {
     "data": {
      "text/plain": [
       "Document(page_content=': 1\\nname: Recycled Waterhog Dog Mat, Chevron Weave\\ndescription: Protect your floors from spills and splashing with our ultradurable recycled Waterhog dog mat made right here in the USA. \\n\\nSpecs\\nSmall - Dimensions: 18\" x 28\". \\nMedium - Dimensions: 22.5\" x 34.5\".\\n\\nWhy We Love It\\nMother nature, wet shoes and muddy paws have met their match with our Recycled Waterhog mats. Ruggedly constructed from recycled plastic materials, these ultratough mats help keep dirt and water off your floors and plastic out of landfills, trails and oceans. Now, that\\'s a win-win for everyone.\\n\\nFabric & Care\\nVacuum or hose clean.\\n\\nConstruction\\n24 oz. polyester fabric made from 94% recycled materials.\\nRubber backing.\\n\\nAdditional Features\\nFeatures an -exclusive design.\\nFeatures thick and thin fibers for scraping dirt and absorbing water.\\nDries quickly and resists fading, rotting, mildew and shedding.\\nUse indoors or out.\\nMade in the USA.\\n\\nHave questions? Reach out to our customer service team with any questions you may have.', metadata={'source': 'OutdoorClothingCatalog_1000.csv', 'row': 1})"
      ]
     },
     "execution_count": 16,
     "metadata": {},
     "output_type": "execute_result"
    }
   ],
   "source": [
    "docs[1]"
   ]
  },
  {
   "cell_type": "code",
   "execution_count": 19,
   "id": "5938a4b6-fbfe-4ff0-9f18-1b6db8f14c1e",
   "metadata": {},
   "outputs": [],
   "source": [
    "# Define the file path and chunk size\n",
    "file_path = \"OutdoorClothingCatalog_1000.csv\"\n",
    "chunk_size = 100  # Choose an appropriate chunk size\n",
    "\n",
    "#Initialize an empty list to store processed documents\n",
    "all_docs=[]\n",
    "\n",
    "#Create a CSV Loader\n",
    "loader=CSVLoader(file_path=file_path)\n",
    "docs= loader.load_and_split()\n",
    "\n",
    "db=DocArrayInMemorySearch.from_documents(docs[0:500], embeddings)\n",
    "db_2=DocArrayInMemorySearch.from_documents(docs[501:1000], embeddings)"
   ]
  },
  {
   "cell_type": "code",
   "execution_count": 27,
   "id": "2e016cdc-66cb-4e3a-816c-a433fa115123",
   "metadata": {},
   "outputs": [
    {
     "data": {
      "text/plain": [
       "1000"
      ]
     },
     "execution_count": 27,
     "metadata": {},
     "output_type": "execute_result"
    }
   ],
   "source": [
    "len(docs)\n",
    "#final_db=DocArrayInMemorySearch.from_documents(docs[0:1000], embeddings)"
   ]
  },
  {
   "cell_type": "code",
   "execution_count": 60,
   "id": "88526cd9-382f-4c0a-b342-a8c70db4a514",
   "metadata": {},
   "outputs": [],
   "source": [
    "db=DocArrayInMemorySearch.from_documents(docs[0:800], embeddings)\n",
    "db_2=DocArrayInMemorySearch.from_documents(docs[501:1000], embeddings)"
   ]
  },
  {
   "cell_type": "code",
   "execution_count": 30,
   "id": "11d85200-5d8a-4dd9-ac27-934abdca4ae7",
   "metadata": {},
   "outputs": [],
   "source": [
    "query = \"Please suggest a shirt with sunblocking\""
   ]
  },
  {
   "cell_type": "code",
   "execution_count": 31,
   "id": "a12c0522-1483-4a1c-8643-9b0e392dc570",
   "metadata": {},
   "outputs": [],
   "source": [
    "combined_results = []\n",
    "for db in [db,db_2]:\n",
    "    # Perform search on each individual database\n",
    "    results = db.similarity_search(query)\n",
    "    # Combine results, potentially with filtering or merging strategies\n",
    "    combined_results.extend(results)\n"
   ]
  },
  {
   "cell_type": "code",
   "execution_count": 36,
   "id": "28b87ab5-e131-4464-9f24-35455d595696",
   "metadata": {},
   "outputs": [
    {
     "data": {
      "text/plain": [
       "8"
      ]
     },
     "execution_count": 36,
     "metadata": {},
     "output_type": "execute_result"
    }
   ],
   "source": [
    "len(combined_results)"
   ]
  },
  {
   "cell_type": "code",
   "execution_count": 37,
   "id": "377eeca1-7a78-42fd-a2f6-ff86577f66d8",
   "metadata": {},
   "outputs": [],
   "source": [
    "qdocs = \"\".join([combined_results[i].page_content for i in range(len(combined_results))])"
   ]
  },
  {
   "cell_type": "code",
   "execution_count": 54,
   "id": "4628a51c-6d8f-408f-b576-d9e0ceaba4c5",
   "metadata": {},
   "outputs": [
    {
     "data": {
      "text/plain": [
       "{'query': 'Please list all your shirts with sun protection in a table in markdown and summarize each one.',\n",
       " 'result': \"| Shirt Number | Name | Description |\\n| --- | --- | --- |\\n| 618 | Men's Tropical Plaid Short-Sleeve Shirt | Rated UPF 50+ for superior protection from the sun's UV rays. Made of 100% polyester and is wrinkle-resistant. With front and back cape venting that lets in cool breezes and two front bellows pockets. |\\n| 535 | Men's TropicVibe Shirt, Short-Sleeve | Has built-in UPF 50+ and is made of 71% Nylon, 29% Polyester. Wrinkle-resistant with front and back cape venting that lets in cool breezes and two front bellows pockets. |\\n| 617 | Girls' Beachside Breeze Shirt, Half-Sleeve | A swim shirt with built-in UPF 50+ and is made of 80% nylon, 20% Lycra Xtra Life. Snag- and fade-resistant fabric holds its shape season after season. |\\n| 679 | Women's Tropical Tee, Sleeveless | Has built-in SunSmart™ UPF 50+ and is made of 71% nylon, 29% polyester. With low-profile pockets and side shaping offer a more flattering fit. Front and back cape venting, two front pockets, tool tabs, and eyewear loop. |\\n\\n- Men's Tropical Plaid Short-Sleeve Shirt: A lightweight shirt made of 100% polyester that is wrinkle-resistant and has front and back cape venting that lets in cool breezes. It is rated UPF 50+ for superior protection from the sun's UV rays.\\n- Men's TropicVibe Shirt, Short-Sleeve: A sun-protection shirt made of 71% Nylon, 29% Polyester with built-in UPF 50+. It is wrinkle-resistant and has front and back cape venting that lets in cool breezes and two front bellows pockets.\\n- Girls' Beachside Breeze Shirt, Half-Sleeve: A swim shirt made of 80% nylon, 20% Lycra Xtra Life with built-in UPF 50+. It is snag- and fade-resistant and holds its shape season after season.\\n- Women's Tropical Tee, Sleeveless: A sleeveless button-up shirt made of 71% nylon, 29% polyester with built-in SunSmart™ UPF 50+. It has low-profile pockets and side shaping offer a more flattering fit, front and back cape venting, two front pockets, tool tabs, and eyewear loop.\"}"
      ]
     },
     "execution_count": 54,
     "metadata": {},
     "output_type": "execute_result"
    }
   ],
   "source": [
    "response"
   ]
  },
  {
   "cell_type": "code",
   "execution_count": 61,
   "id": "335355e0-e2f8-4626-a282-0eb6008962bc",
   "metadata": {},
   "outputs": [],
   "source": [
    "from langchain.chains import RetrievalQA"
   ]
  },
  {
   "cell_type": "code",
   "execution_count": 64,
   "id": "417ad069-44e5-4735-9686-196b094b32d9",
   "metadata": {},
   "outputs": [],
   "source": [
    "docs = db.similarity_search(query)"
   ]
  },
  {
   "cell_type": "code",
   "execution_count": 65,
   "id": "da2a0ddd-5f92-4bc3-a730-219a73cb1b2d",
   "metadata": {},
   "outputs": [
    {
     "data": {
      "text/plain": [
       "Document(page_content=\": 374\\nname: Men's Plaid Tropic Shirt, Short-Sleeve\\ndescription: Our Ultracomfortable sun protection is rated to UPF 50+, helping you stay cool and dry. Originally designed for fishing, this lightest hot-weather shirt offers UPF 50+ coverage and is great for extended travel. SunSmart technology blocks 98% of the sun's harmful UV rays, while the high-performance fabric is wrinkle-free and quickly evaporates perspiration. Made with 52% polyester and 48% nylon, this shirt is machine washable and dryable. Additional features include front and back cape venting, two front bellows pockets and an imported design. With UPF 50+ coverage, you can limit sun exposure and feel secure with the highest rated sun protection available.\", metadata={'source': 'OutdoorClothingCatalog_1000.csv', 'row': 374})"
      ]
     },
     "execution_count": 65,
     "metadata": {},
     "output_type": "execute_result"
    }
   ],
   "source": [
    "docs[0]"
   ]
  },
  {
   "cell_type": "code",
   "execution_count": 69,
   "id": "47a8a010-cf0d-400b-800c-3bf12b79d41e",
   "metadata": {},
   "outputs": [],
   "source": [
    "retriever = db.as_retriever()\n",
    "llm = ChatOpenAI(temperature = 0.0, model=llm_model)\n",
    "qdocs = \"\".join([docs[i].page_content for i in range(len(docs))])\n",
    "response = llm.call_as_llm(f\"{qdocs} Question: Please list all your \\\n",
    "shirts with sun protection in a table in markdown and summarize each one.\") \n"
   ]
  },
  {
   "cell_type": "code",
   "execution_count": 70,
   "id": "b6411fb3-2a67-436c-9309-9dc2ffacc26c",
   "metadata": {},
   "outputs": [
    {
     "data": {
      "text/markdown": [
       "| Shirt Name | Description |\n",
       "| --- | --- |\n",
       "| Men's Plaid Tropic Shirt, Short-Sleeve | This shirt offers UPF 50+ coverage and is great for extended travel. SunSmart technology blocks 98% of the sun's harmful UV rays, while the high-performance fabric is wrinkle-free and quickly evaporates perspiration. Made with 52% polyester and 48% nylon, this shirt is machine washable and dryable. Additional features include front and back cape venting, two front bellows pockets and an imported design. |\n",
       "| Men's Tropical Plaid Short-Sleeve Shirt | This fabric is made of 100% polyester and is wrinkle-resistant. With front and back cape venting that lets in cool breezes and two front bellows pockets, this shirt is imported and provides the highest rated sun protection possible. |\n",
       "| Men's TropicVibe Shirt, Short-Sleeve | This Men’s sun-protection shirt with built-in UPF 50+ has the lightweight feel you want and the coverage you need when the air is hot and the UV rays are strong. Made with shell: 71% Nylon, 29% Polyester and lining: 100% Polyester knit mesh. Additional features include wrinkle resistance, front and back cape venting, and two front bellows pockets. |\n",
       "| Sun Shield Shirt | This high-performance sun shirt is guaranteed to protect from harmful UV rays. Made with 78% nylon and 22% Lycra Xtra Life fiber, this shirt is UPF 50+ rated and wicks moisture for quick-drying comfort. It fits comfortably over your favorite swimsuit and is abrasion-resistant for season after season of wear. | \n",
       "\n",
       "All of these shirts provide UPF 50+ sun protection, blocking 98% of the sun's harmful rays. They are made with high-performance fabrics that are wrinkle-resistant, quick-drying, and comfortable to wear. Additional features include front and back cape venting, two front bellows pockets, and abrasion resistance."
      ],
      "text/plain": [
       "<IPython.core.display.Markdown object>"
      ]
     },
     "metadata": {},
     "output_type": "display_data"
    }
   ],
   "source": [
    "display(Markdown(response))"
   ]
  },
  {
   "cell_type": "code",
   "execution_count": 63,
   "id": "a9f13d13-bcd6-4d9e-892b-3b9465d7fe48",
   "metadata": {},
   "outputs": [
    {
     "name": "stdout",
     "output_type": "stream",
     "text": [
      "\n",
      "\n",
      "\u001b[1m> Entering new RetrievalQA chain...\u001b[0m\n",
      "\n",
      "\u001b[1m> Finished chain.\u001b[0m\n"
     ]
    }
   ],
   "source": [
    "response = qa_stuff.invoke(query)"
   ]
  },
  {
   "cell_type": "code",
   "execution_count": 71,
   "id": "5f9fd176-3869-4279-8cc9-85d7f9b514b9",
   "metadata": {},
   "outputs": [],
   "source": [
    "qa_stuff = RetrievalQA.from_chain_type(\n",
    "    llm=llm, \n",
    "    chain_type=\"stuff\", \n",
    "    retriever=retriever, \n",
    "    verbose=True\n",
    ")"
   ]
  },
  {
   "cell_type": "code",
   "execution_count": 72,
   "id": "c105d48a-4c60-42ff-936f-6c28fe5fa6a2",
   "metadata": {},
   "outputs": [],
   "source": [
    "query =  \"Please list all your shirts with sun protection in a table \\\n",
    "in markdown and summarize each one.\""
   ]
  },
  {
   "cell_type": "code",
   "execution_count": 73,
   "id": "6fc37b42-83a3-469f-9e92-546e29f7a12c",
   "metadata": {},
   "outputs": [
    {
     "name": "stdout",
     "output_type": "stream",
     "text": [
      "\n",
      "\n",
      "\u001b[1m> Entering new RetrievalQA chain...\u001b[0m\n",
      "\n",
      "\u001b[1m> Finished chain.\u001b[0m\n"
     ]
    }
   ],
   "source": [
    "response = qa_stuff.run(query)"
   ]
  },
  {
   "cell_type": "code",
   "execution_count": 74,
   "id": "e08f80d0-798c-421c-bfd9-233284302a47",
   "metadata": {},
   "outputs": [
    {
     "data": {
      "text/markdown": [
       "| Shirt Number | Name | Description |\n",
       "| --- | --- | --- |\n",
       "| 618 | Men's Tropical Plaid Short-Sleeve Shirt | Rated UPF 50+ for superior protection from the sun's UV rays. Made of 100% polyester and is wrinkle-resistant. With front and back cape venting that lets in cool breezes and two front bellows pockets. |\n",
       "| 374 | Men's Plaid Tropic Shirt, Short-Sleeve | Rated to UPF 50+ and offers sun protection. Made with 52% polyester and 48% nylon, this shirt is machine washable and dryable. Additional features include front and back cape venting, two front bellows pockets. |\n",
       "| 535 | Men's TropicVibe Shirt, Short-Sleeve | Built-in UPF 50+ has the lightweight feel you want and the coverage you need when the air is hot and the UV rays are strong. Made with 71% Nylon, 29% Polyester. Additional features include wrinkle resistance, front and back cape venting, and two front bellows pockets. |\n",
       "| 255 | Sun Shield Shirt | High-performance sun shirt is guaranteed to protect from harmful UV rays. Made with 78% nylon, 22% Lycra Xtra Life fiber. Additional features include moisture-wicking, abrasion resistance, and fits comfortably over your favorite swimsuit. |\n",
       "\n",
       "The Men's Tropical Plaid Short-Sleeve Shirt is made of 100% polyester and is wrinkle-resistant. It has front and back cape venting that lets in cool breezes and two front bellows pockets. The Men's Plaid Tropic Shirt, Short-Sleeve is made with 52% polyester and 48% nylon, and has front and back cape venting, and two front bellows pockets. The Men's TropicVibe Shirt, Short-Sleeve has built-in UPF 50+ and is made with 71% Nylon, 29% Polyester. It has wrinkle resistance, front and back cape venting, and two front bellows pockets. The Sun Shield Shirt is made with 78% nylon, 22% Lycra Xtra Life fiber, and is moisture-wicking and abrasion-resistant. It fits comfortably over your favorite swimsuit. All shirts have UPF 50+ sun protection, blocking 98% of the sun's harmful rays."
      ],
      "text/plain": [
       "<IPython.core.display.Markdown object>"
      ]
     },
     "metadata": {},
     "output_type": "display_data"
    }
   ],
   "source": [
    "display(Markdown(response))"
   ]
  }
 ],
 "metadata": {
  "kernelspec": {
   "display_name": "Python 3 (ipykernel)",
   "language": "python",
   "name": "python3"
  },
  "language_info": {
   "codemirror_mode": {
    "name": "ipython",
    "version": 3
   },
   "file_extension": ".py",
   "mimetype": "text/x-python",
   "name": "python",
   "nbconvert_exporter": "python",
   "pygments_lexer": "ipython3",
   "version": "3.10.13"
  }
 },
 "nbformat": 4,
 "nbformat_minor": 5
}
