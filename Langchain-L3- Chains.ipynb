{
 "cells": [
  {
   "cell_type": "markdown",
   "id": "1945eb92-3a07-4746-bbba-0ff097ba390f",
   "metadata": {},
   "source": [
    "# Chains in LangChain\n",
    "\n",
    "* LLMChain\n",
    "* Sequential Chains\n",
    "  * SimpleSequentialChain\n",
    "  * SequentialChain\n",
    "* Router Chain"
   ]
  },
  {
   "cell_type": "code",
   "execution_count": 2,
   "id": "e0e780d9-fe31-4dc0-a84b-86299efb1001",
   "metadata": {},
   "outputs": [],
   "source": [
    "import os\n",
    "import pandas as pd\n",
    "\n",
    "from dotenv import load_dotenv, find_dotenv\n",
    "_ = load_dotenv(find_dotenv()) # read local .env file\n",
    "\n",
    "import warnings\n",
    "warnings.filterwarnings('ignore')"
   ]
  },
  {
   "cell_type": "code",
   "execution_count": 3,
   "id": "61cbe2f4-939f-48db-b152-a35bb7ec9303",
   "metadata": {},
   "outputs": [],
   "source": [
    "from langchain_openai import ChatOpenAI\n",
    "from langchain.prompts import ChatPromptTemplate\n",
    "from langchain.chains import LLMChain"
   ]
  },
  {
   "cell_type": "code",
   "execution_count": 4,
   "id": "6e4dc3b2-57ff-4dae-a127-b51f94befe15",
   "metadata": {},
   "outputs": [],
   "source": [
    "# account for deprecation of LLM model\n",
    "import datetime\n",
    "# Get the current date\n",
    "current_date = datetime.datetime.now().date()\n",
    "\n",
    "# Define the date after which the model should be set to \"gpt-3.5-turbo\"\n",
    "target_date = datetime.date(2024, 6, 12)\n",
    "\n",
    "# Set the model variable based on the current date\n",
    "if current_date > target_date:\n",
    "    llm_model = \"gpt-3.5-turbo\"\n",
    "else:\n",
    "    llm_model = \"gpt-3.5-turbo-0301\""
   ]
  },
  {
   "cell_type": "code",
   "execution_count": 5,
   "id": "5557e5e8-88dd-4a3b-b945-0d827f62c6fd",
   "metadata": {},
   "outputs": [
    {
     "data": {
      "text/html": [
       "<div>\n",
       "<style scoped>\n",
       "    .dataframe tbody tr th:only-of-type {\n",
       "        vertical-align: middle;\n",
       "    }\n",
       "\n",
       "    .dataframe tbody tr th {\n",
       "        vertical-align: top;\n",
       "    }\n",
       "\n",
       "    .dataframe thead th {\n",
       "        text-align: right;\n",
       "    }\n",
       "</style>\n",
       "<table border=\"1\" class=\"dataframe\">\n",
       "  <thead>\n",
       "    <tr style=\"text-align: right;\">\n",
       "      <th></th>\n",
       "      <th>Product</th>\n",
       "      <th>Review</th>\n",
       "    </tr>\n",
       "  </thead>\n",
       "  <tbody>\n",
       "    <tr>\n",
       "      <th>0</th>\n",
       "      <td>Queen Size Sheet Set</td>\n",
       "      <td>I ordered a king size set. My only criticism w...</td>\n",
       "    </tr>\n",
       "    <tr>\n",
       "      <th>1</th>\n",
       "      <td>Waterproof Phone Pouch</td>\n",
       "      <td>I loved the waterproof sac, although the openi...</td>\n",
       "    </tr>\n",
       "    <tr>\n",
       "      <th>2</th>\n",
       "      <td>Luxury Air Mattress</td>\n",
       "      <td>This mattress had a small hole in the top of i...</td>\n",
       "    </tr>\n",
       "    <tr>\n",
       "      <th>3</th>\n",
       "      <td>Pillows Insert</td>\n",
       "      <td>This is the best throw pillow fillers on Amazo...</td>\n",
       "    </tr>\n",
       "    <tr>\n",
       "      <th>4</th>\n",
       "      <td>Milk Frother Handheld\\n</td>\n",
       "      <td>I loved this product. But they only seem to l...</td>\n",
       "    </tr>\n",
       "  </tbody>\n",
       "</table>\n",
       "</div>"
      ],
      "text/plain": [
       "                   Product                                             Review\n",
       "0     Queen Size Sheet Set  I ordered a king size set. My only criticism w...\n",
       "1   Waterproof Phone Pouch  I loved the waterproof sac, although the openi...\n",
       "2      Luxury Air Mattress  This mattress had a small hole in the top of i...\n",
       "3           Pillows Insert  This is the best throw pillow fillers on Amazo...\n",
       "4  Milk Frother Handheld\\n   I loved this product. But they only seem to l..."
      ]
     },
     "execution_count": 5,
     "metadata": {},
     "output_type": "execute_result"
    }
   ],
   "source": [
    "df=pd.read_csv('Data.csv')\n",
    "df.head()"
   ]
  },
  {
   "cell_type": "markdown",
   "id": "1157cdae-5d00-45b0-afac-66f5c80d2d46",
   "metadata": {},
   "source": [
    "### LLMChain"
   ]
  },
  {
   "cell_type": "code",
   "execution_count": 6,
   "id": "5087bc2c-6c0c-42b0-963f-09f0e085053e",
   "metadata": {},
   "outputs": [],
   "source": [
    "llm = ChatOpenAI(temperature=0.9, model=llm_model)\n",
    "prompt=ChatPromptTemplate.from_template(\"What is the best name to desribe a company that makes {product}?\")"
   ]
  },
  {
   "cell_type": "code",
   "execution_count": 7,
   "id": "1a8921a4-3102-4b2e-9b5e-fcc8ce380d3f",
   "metadata": {},
   "outputs": [],
   "source": [
    "chain=LLMChain(llm=llm,prompt=prompt)"
   ]
  },
  {
   "cell_type": "code",
   "execution_count": 8,
   "id": "25650cec-076e-48b5-812d-c4eb317d7f9c",
   "metadata": {},
   "outputs": [
    {
     "data": {
      "text/plain": [
       "'\"Royal Linens\" or \"Regal Bedding\" would be good names to describe a company that makes Queen Size Sheet Sets.'"
      ]
     },
     "execution_count": 8,
     "metadata": {},
     "output_type": "execute_result"
    }
   ],
   "source": [
    "product = \"Queen Size Sheet Set\"\n",
    "chain.run(product)"
   ]
  },
  {
   "cell_type": "markdown",
   "id": "28a14e60-714f-436a-b025-ed267926b081",
   "metadata": {},
   "source": [
    "### Simple Sequential Chains"
   ]
  },
  {
   "cell_type": "code",
   "execution_count": 9,
   "id": "51ecf72a-088f-4bec-9430-889c46284083",
   "metadata": {},
   "outputs": [],
   "source": [
    "from langchain.chains import SimpleSequentialChain"
   ]
  },
  {
   "cell_type": "code",
   "execution_count": 10,
   "id": "0ac651d3-4533-4e76-b4d6-8b66e48c4d7b",
   "metadata": {},
   "outputs": [],
   "source": [
    "llm=ChatOpenAI(model=llm_model, temperature=0.9)"
   ]
  },
  {
   "cell_type": "code",
   "execution_count": 11,
   "id": "f09d1dcc-4e45-4f62-a2b5-938ce61bea52",
   "metadata": {},
   "outputs": [],
   "source": [
    "first_prompt=ChatPromptTemplate.from_template(\"What is the best name to describe \\\n",
    "a company that makes {product}?\"\n",
    ")\n",
    "\n",
    "#Chain 1\n",
    "chain_one = LLMChain(llm=llm, prompt=first_prompt)"
   ]
  },
  {
   "cell_type": "code",
   "execution_count": 12,
   "id": "1bd55a90-21ad-4c66-a9ad-0ce1edbd9db0",
   "metadata": {},
   "outputs": [],
   "source": [
    "second_prompt=ChatPromptTemplate.from_template(\"Write a short 20 words description of company: {company_name}\")\n",
    "chain_two= LLMChain(llm=llm, prompt=second_prompt)"
   ]
  },
  {
   "cell_type": "code",
   "execution_count": 13,
   "id": "399af29b-0a29-4fbe-bd45-e9f536076aa8",
   "metadata": {},
   "outputs": [],
   "source": [
    "overall_simple_chain=SimpleSequentialChain(chains=[chain_one,chain_two], verbose=True)"
   ]
  },
  {
   "cell_type": "code",
   "execution_count": 14,
   "id": "2cd40cf3-a9cf-4d15-92f1-9fd6b127eba2",
   "metadata": {},
   "outputs": [
    {
     "name": "stdout",
     "output_type": "stream",
     "text": [
      "\n",
      "\n",
      "\u001b[1m> Entering new SimpleSequentialChain chain...\u001b[0m\n",
      "\u001b[36;1m\u001b[1;3mRoyal Linens Inc.\u001b[0m\n",
      "\u001b[33;1m\u001b[1;3mRoyal Linens Inc. is a leading provider of luxury linens, bedding, and home décor items that elevate the comfort and style of any living space.\u001b[0m\n",
      "\n",
      "\u001b[1m> Finished chain.\u001b[0m\n"
     ]
    },
    {
     "data": {
      "text/plain": [
       "'Royal Linens Inc. is a leading provider of luxury linens, bedding, and home décor items that elevate the comfort and style of any living space.'"
      ]
     },
     "execution_count": 14,
     "metadata": {},
     "output_type": "execute_result"
    }
   ],
   "source": [
    "overall_simple_chain.run(product)"
   ]
  },
  {
   "cell_type": "markdown",
   "id": "0f268404-d596-4e7c-9ae8-ea6d580a2dbd",
   "metadata": {},
   "source": [
    "### Sequential Chains"
   ]
  },
  {
   "cell_type": "code",
   "execution_count": 1,
   "id": "fd38a564-6336-4f68-910e-266f3561ce40",
   "metadata": {},
   "outputs": [],
   "source": [
    "from langchain.chains import SequentialChain"
   ]
  },
  {
   "cell_type": "code",
   "execution_count": 15,
   "id": "b07e92be-bdf3-4393-b060-80b9200e5608",
   "metadata": {},
   "outputs": [],
   "source": [
    "llm=ChatOpenAI(model=llm_model,temperature=0.9)"
   ]
  },
  {
   "cell_type": "code",
   "execution_count": 19,
   "id": "951c1287-cf7e-4f55-8d0b-d84833ebae88",
   "metadata": {},
   "outputs": [],
   "source": [
    "# prompt template 1: translate to english\n",
    "prompt1=ChatPromptTemplate.from_template(\"Translate the following review to English:{Review}\")"
   ]
  },
  {
   "cell_type": "code",
   "execution_count": 20,
   "id": "6a6625b9-8629-4044-b70e-12dba56d3eb8",
   "metadata": {},
   "outputs": [],
   "source": [
    "# chain 1: input= Review and output= English_Review\n",
    "chain_1=LLMChain(llm=llm,prompt=prompt1,output_key=\"English_Review\")"
   ]
  },
  {
   "cell_type": "code",
   "execution_count": 25,
   "id": "fc5b7220-7b43-4266-87f5-937e7397604e",
   "metadata": {},
   "outputs": [],
   "source": [
    "prompt2=ChatPromptTemplate.from_template(\n",
    "        \"Can you summarize the following review in 1 sentence: \\\n",
    "        {English_Review}\"\n",
    "    )\n",
    "\n",
    "# chain 2: input= English_Review and output= summary\n",
    "chain_2=LLMChain(llm=llm,prompt=prompt2,output_key=\"Summary\")"
   ]
  },
  {
   "cell_type": "code",
   "execution_count": 27,
   "id": "db376a48-a64e-4fea-a4f2-135a80176bb7",
   "metadata": {},
   "outputs": [],
   "source": [
    "# prompt template 3: find the language\n",
    "prompt3=ChatPromptTemplate.from_template(\"What is the language of following review: {Review}\")\n",
    "\n",
    "# chain 3: input= Review and output= language\n",
    "chain_3= LLMChain(llm=llm,prompt=prompt3,output_key=\"Language\")"
   ]
  },
  {
   "cell_type": "code",
   "execution_count": 30,
   "id": "40020386-84a8-4d38-a67b-117e7181f151",
   "metadata": {},
   "outputs": [],
   "source": [
    "# prompt template 4: follow up message\n",
    "prompt4=ChatPromptTemplate.from_template(\"Write a follow up response to the following summary in the specified language:\\\n",
    "                                        Summary: {Summary} \\n\\n \\\n",
    "                                        Language: {Language}\")\n",
    "\n",
    "chain_4= LLMChain(llm=llm,prompt=prompt4,output_key=\"followup_msg\")"
   ]
  },
  {
   "cell_type": "code",
   "execution_count": 32,
   "id": "b4a06fe9-022e-482b-9c67-13bc884d51bb",
   "metadata": {},
   "outputs": [],
   "source": [
    "# overall_chain: input= Review \n",
    "# and output= English_Review,summary, followup_message\n",
    "complete_chain=SequentialChain(chains= [chain_1,chain_2,chain_3,chain_4],\n",
    "                               input_variables= [\"Review\"],\n",
    "                               output_variables= [\"English_Review\",\"Summary\",\"Language\",\"followup_msg\"])"
   ]
  },
  {
   "cell_type": "code",
   "execution_count": 33,
   "id": "da40813a-53a9-404f-9743-bee7a30cf6f7",
   "metadata": {},
   "outputs": [],
   "source": [
    "review = df.Review[5]"
   ]
  },
  {
   "cell_type": "code",
   "execution_count": 34,
   "id": "8734351a-b7e2-4dee-842a-5b1c79031753",
   "metadata": {},
   "outputs": [
    {
     "data": {
      "text/plain": [
       "{'Review': \"Je trouve le goût médiocre. La mousse ne tient pas, c'est bizarre. J'achète les mêmes dans le commerce et le goût est bien meilleur...\\nVieux lot ou contrefaçon !?\",\n",
       " 'English_Review': '\"I find the taste mediocre. The foam doesn\\'t hold, it\\'s strange. I buy the same in stores and the taste is much better... Old batch or counterfeit!?\"',\n",
       " 'Summary': \"The reviewer finds the taste mediocre and suspects the possibility of an old batch or counterfeit product because the foam doesn't hold well.\",\n",
       " 'Language': 'The language of the review is French.',\n",
       " 'followup_msg': \"Réponse: Merci d'avoir partagé votre avis sur notre produit. Nous sommes désolés d'apprendre que vous avez trouvé le goût médiocre et que la mousse ne tient pas bien. Nous voulons vous assurer que notre produit est authentique et que nous prenons très au sérieux la qualité de nos produits. Avez-vous vérifié la date d'expiration ou la date de production sur le produit? Nous aimerions également en savoir plus sur votre expérience pour mieux comprendre où nous pouvons améliorer notre produit. Nous apprécions votre retour et espérons avoir une chance de vous offrir une expérience plus agréable à l'avenir.\"}"
      ]
     },
     "execution_count": 34,
     "metadata": {},
     "output_type": "execute_result"
    }
   ],
   "source": [
    "complete_chain(review)"
   ]
  },
  {
   "cell_type": "markdown",
   "id": "ca0c90cb-7a7a-46eb-9531-4b681946fab7",
   "metadata": {},
   "source": [
    "### Router Chains"
   ]
  },
  {
   "cell_type": "code",
   "execution_count": 35,
   "id": "5555b78d-0037-4acc-98b0-5acb9e481109",
   "metadata": {},
   "outputs": [],
   "source": [
    "physics_template = \"\"\"You are a very smart physics professor. You are great at answering questions about physics in a concise\\\n",
    "and easy to understand manner. When you don't know the answer to a question you admit that you don't know.\n",
    "\n",
    "Here is a question:\n",
    "{input}\"\"\"\n",
    "\n",
    "\n",
    "math_template = \"\"\"You are a very good mathematician. \\\n",
    "You are great at answering math questions. \\\n",
    "You are so good because you are able to break down \\\n",
    "hard problems into their component parts, \n",
    "answer the component parts, and then put them together\\\n",
    "to answer the broader question.\n",
    "\n",
    "Here is a question:\n",
    "{input}\"\"\"\n",
    "\n",
    "history_template = \"\"\"You are a very good historian. \\\n",
    "You have an excellent knowledge of and understanding of people,\\\n",
    "events and contexts from a range of historical periods. \\\n",
    "You have the ability to think, reflect, debate, discuss and \\\n",
    "evaluate the past. You have a respect for historical evidence\\\n",
    "and the ability to make use of it to support your explanations \\\n",
    "and judgements.\n",
    "\n",
    "Here is a question:\n",
    "{input}\"\"\"\n",
    "\n",
    "\n",
    "computerscience_template = \"\"\" You are a successful computer scientist.\\\n",
    "You have a passion for creativity, collaboration,\\\n",
    "forward-thinking, confidence, strong problem-solving capabilities,\\\n",
    "understanding of theories and algorithms, and excellent communication \\\n",
    "skills. You are great at answering coding questions. \\\n",
    "You are so good because you know how to solve a problem by \\\n",
    "describing the solution in imperative steps \\\n",
    "that a machine can easily interpret and you know how to \\\n",
    "choose a solution that has a good balance between \\\n",
    "time complexity and space complexity. \n",
    "\n",
    "Here is a question:\n",
    "{input}\"\"\""
   ]
  },
  {
   "cell_type": "code",
   "execution_count": 36,
   "id": "4ccfc33a-eed6-47d8-831b-133fcf359db7",
   "metadata": {},
   "outputs": [],
   "source": [
    "prompt_infos = [\n",
    "    {\n",
    "        \"name\": \"physics\", \n",
    "        \"description\": \"Good for answering questions about physics\", \n",
    "        \"prompt_template\": physics_template\n",
    "    },\n",
    "    {  \"name\":\"maths\",\n",
    "        \"description\": \"Good for answering questions about maths\", \n",
    "        \"prompt_template\": math_template\n",
    "    },\n",
    "    {  \"name\":\"history\",\n",
    "        \"description\": \"Good for answering questions about history\", \n",
    "        \"prompt_template\": history_template\n",
    "    },\n",
    "    {\n",
    "        \"name\": \"computers\", \n",
    "        \"description\": \"Good for answering questions about physics\", \n",
    "        \"prompt_template\": computerscience_template\n",
    "    }\n",
    "]"
   ]
  },
  {
   "cell_type": "code",
   "execution_count": 65,
   "id": "e79d60f6-2c18-4b56-bb07-1e58c7733412",
   "metadata": {},
   "outputs": [],
   "source": [
    "from langchain.chains.router import MultiPromptChain\n",
    "from langchain.chains.router.llm_router import LLMRouterChain,RouterOutputParser\n",
    "from langchain.prompts import PromptTemplate"
   ]
  },
  {
   "cell_type": "code",
   "execution_count": 39,
   "id": "c185b69c-6f0c-4b6c-b7b9-7165288eee4f",
   "metadata": {},
   "outputs": [],
   "source": [
    "llm=ChatOpenAI(model=llm_model,temperature=0.9)"
   ]
  },
  {
   "cell_type": "code",
   "execution_count": 40,
   "id": "1e25d479-eb8f-47c7-98b3-5a8571f47d74",
   "metadata": {},
   "outputs": [],
   "source": [
    "#destination_chains\n",
    "\n",
    "destination_chains = {}\n",
    "for p_info in prompt_infos:\n",
    "    name = p_info[\"name\"]\n",
    "    prompt_template = p_info[\"prompt_template\"]\n",
    "    prompt=ChatPromptTemplate.from_template(prompt_template)\n",
    "    chain=LLMChain(llm=llm,prompt=prompt)\n",
    "    destination_chains[name]=chain\n",
    "    \n"
   ]
  },
  {
   "cell_type": "code",
   "execution_count": 47,
   "id": "d1715796-7b35-4382-8fcb-d28975c5c65c",
   "metadata": {},
   "outputs": [
    {
     "data": {
      "text/plain": [
       "['physics: Good for answering questions about physics',\n",
       " 'maths: Good for answering questions about maths',\n",
       " 'history: Good for answering questions about history',\n",
       " 'computers: Good for answering questions about physics']"
      ]
     },
     "execution_count": 47,
     "metadata": {},
     "output_type": "execute_result"
    }
   ],
   "source": [
    "\n",
    "destinations = [f\"{p['name']}: {p['description']}\" for p in prompt_infos]\n",
    "destinations"
   ]
  },
  {
   "cell_type": "code",
   "execution_count": 52,
   "id": "7b881222-550f-4299-8722-f345360105a9",
   "metadata": {},
   "outputs": [
    {
     "data": {
      "text/plain": [
       "'physics: Good for answering questions about physics\\nmaths: Good for answering questions about maths\\nhistory: Good for answering questions about history\\ncomputers: Good for answering questions about physics'"
      ]
     },
     "execution_count": 52,
     "metadata": {},
     "output_type": "execute_result"
    }
   ],
   "source": [
    "destinations_str = \"\\n\".join(destinations)\n",
    "destinations_str"
   ]
  },
  {
   "cell_type": "code",
   "execution_count": 45,
   "id": "74a1cca6-38c0-406f-bb4e-d146f44e0239",
   "metadata": {},
   "outputs": [],
   "source": [
    "default_prompt = ChatPromptTemplate.from_template(\"{input}\")\n",
    "default_chain=LLMChain(llm=llm, prompt=default_prompt)"
   ]
  },
  {
   "cell_type": "code",
   "execution_count": 63,
   "id": "23e4f17b-81b1-4137-8f1a-7249af2b62b3",
   "metadata": {},
   "outputs": [],
   "source": [
    "MULTI_PROMPT_ROUTER_TEMPLATE = \"\"\"Given a raw text input to a language model select the model prompt best suited for the input. \\\n",
    "You will be given the names of the available prompts and a description of what the prompt is best suited for. \\\n",
    "You may also revise the original input if you think that revising it will ultimately lead to a better response from the language model.\n",
    "\n",
    "< FORMATTING >: Return a markdown code snippet with a JSON object formatted to look like:\n",
    "```json\n",
    "{{{{\n",
    "    \"destination\": string \\ name of the prompt to use or \"DEFAULT\"\n",
    "    \"next_inputs\": string \\ a potentially modified version of the original input\n",
    "}}}}\n",
    "```\n",
    "REMEMBER: \"destination\" MUST be one of the candidate prompt names specified below OR it can be \"DEFAULT\" if the input is not\\\n",
    "well suited for any of the candidate prompts.\n",
    "REMEMBER: \"next_inputs\" can just be the original input if you don't think any modifications are needed.\n",
    "\n",
    "<Candidate Prompts>: {destinations}\n",
    "\n",
    "<INPUT> : {{input}}\n",
    "\n",
    "< OUTPUT (remember to include the ```json)>\"\"\""
   ]
  },
  {
   "cell_type": "code",
   "execution_count": 67,
   "id": "c0c038c2-b555-49b4-b510-f891bd109e79",
   "metadata": {},
   "outputs": [
    {
     "data": {
      "text/plain": [
       "'Given a raw text input to a language model select the model prompt best suited for the input. You will be given the names of the available prompts and a description of what the prompt is best suited for. You may also revise the original input if you think that revising it will ultimately lead to a better response from the language model.\\n\\n< FORMATTING >: Return a markdown code snippet with a JSON object formatted to look like:\\n```json\\n{{\\n    \"destination\": string \\\\ name of the prompt to use or \"DEFAULT\"\\n    \"next_inputs\": string \\\\ a potentially modified version of the original input\\n}}\\n```\\nREMEMBER: \"destination\" MUST be one of the candidate prompt names specified below OR it can be \"DEFAULT\" if the input is notwell suited for any of the candidate prompts.\\nREMEMBER: \"next_inputs\" can just be the original input if you don\\'t think any modifications are needed.\\n\\n<Candidate Prompts>: physics: Good for answering questions about physics\\nmaths: Good for answering questions about maths\\nhistory: Good for answering questions about history\\ncomputers: Good for answering questions about physics\\n\\n<INPUT> : {input}\\n\\n< OUTPUT (remember to include the ```json)>'"
      ]
     },
     "execution_count": 67,
     "metadata": {},
     "output_type": "execute_result"
    }
   ],
   "source": [
    "router_template = MULTI_PROMPT_ROUTER_TEMPLATE.format(destinations=destinations_str)\n",
    "router_template"
   ]
  },
  {
   "cell_type": "code",
   "execution_count": 69,
   "id": "7908552c-ba66-4291-bf5b-0485be6bd677",
   "metadata": {},
   "outputs": [],
   "source": [
    "router_prompt=PromptTemplate(\n",
    "    template=router_template,\n",
    "    input_variables=[\"input\"],\n",
    "    output_parser=RouterOutputParser()\n",
    ")\n",
    "\n",
    "router_chain=LLMRouterChain.from_llm(llm,router_prompt)"
   ]
  },
  {
   "cell_type": "code",
   "execution_count": 70,
   "id": "a2b5ee15-17eb-4809-b7dd-f17f7951fcab",
   "metadata": {},
   "outputs": [
    {
     "data": {
      "text/plain": [
       "LLMRouterChain(llm_chain=LLMChain(prompt=PromptTemplate(input_variables=['input'], output_parser=RouterOutputParser(), template='Given a raw text input to a language model select the model prompt best suited for the input. You will be given the names of the available prompts and a description of what the prompt is best suited for. You may also revise the original input if you think that revising it will ultimately lead to a better response from the language model.\\n\\n< FORMATTING >: Return a markdown code snippet with a JSON object formatted to look like:\\n```json\\n{{\\n    \"destination\": string \\\\ name of the prompt to use or \"DEFAULT\"\\n    \"next_inputs\": string \\\\ a potentially modified version of the original input\\n}}\\n```\\nREMEMBER: \"destination\" MUST be one of the candidate prompt names specified below OR it can be \"DEFAULT\" if the input is notwell suited for any of the candidate prompts.\\nREMEMBER: \"next_inputs\" can just be the original input if you don\\'t think any modifications are needed.\\n\\n<Candidate Prompts>: physics: Good for answering questions about physics\\nmaths: Good for answering questions about maths\\nhistory: Good for answering questions about history\\ncomputers: Good for answering questions about physics\\n\\n<INPUT> : {input}\\n\\n< OUTPUT (remember to include the ```json)>'), llm=ChatOpenAI(client=<openai.resources.chat.completions.Completions object at 0x7f259c3d7d60>, async_client=<openai.resources.chat.completions.AsyncCompletions object at 0x7f259c3d9ba0>, model_name='gpt-3.5-turbo-0301', temperature=0.9, openai_api_key=SecretStr('**********'), openai_proxy='')))"
      ]
     },
     "execution_count": 70,
     "metadata": {},
     "output_type": "execute_result"
    }
   ],
   "source": [
    "router_chain"
   ]
  },
  {
   "cell_type": "code",
   "execution_count": 72,
   "id": "34e702af-1570-48ff-9a16-ca942de51257",
   "metadata": {},
   "outputs": [],
   "source": [
    "chain= MultiPromptChain(router_chain=router_chain, \n",
    "                        destination_chains=destination_chains,\n",
    "                        default_chain=default_chain,\n",
    "                        verbose=True\n",
    "                       )"
   ]
  },
  {
   "cell_type": "code",
   "execution_count": 73,
   "id": "36792b9b-566e-49cb-90f5-17b078f841f1",
   "metadata": {},
   "outputs": [
    {
     "name": "stdout",
     "output_type": "stream",
     "text": [
      "\n",
      "\n",
      "\u001b[1m> Entering new MultiPromptChain chain...\u001b[0m\n",
      "history: {'input': 'Who is Newton?'}\n",
      "\u001b[1m> Finished chain.\u001b[0m\n"
     ]
    },
    {
     "data": {
      "text/plain": [
       "'Sir Isaac Newton was an English mathematician, physicist, and astronomer who lived from 1643 to 1727. He is famous for his laws of motion and universal gravitation, as well as his development of calculus. His work greatly influenced the scientific revolution and he is considered one of the most important scientists in history.'"
      ]
     },
     "execution_count": 73,
     "metadata": {},
     "output_type": "execute_result"
    }
   ],
   "source": [
    "chain.run(\"Who is Newton?\")"
   ]
  },
  {
   "cell_type": "code",
   "execution_count": 74,
   "id": "f90bc9ec-72fa-4d96-95b0-d4c40f7a5fbc",
   "metadata": {},
   "outputs": [
    {
     "name": "stdout",
     "output_type": "stream",
     "text": [
      "\n",
      "\n",
      "\u001b[1m> Entering new MultiPromptChain chain...\u001b[0m\n",
      "physics: {'input': 'What is black body radiation?'}\n",
      "\u001b[1m> Finished chain.\u001b[0m\n"
     ]
    },
    {
     "data": {
      "text/plain": [
       "'Black body radiation refers to the type of electromagnetic radiation emitted by a perfect black body, which is an object that absorbs all radiation that hits it and emits radiation at the maximum rate for a given temperature. The spectrum of black body radiation is continuous and depends solely on the temperature of the black body, with hotter black bodies emitting radiation at higher frequencies and with greater intensity. This type of radiation plays an important role in many areas of physics, including the study of stars, the development of quantum mechanics, and the understanding of the cosmic microwave background radiation.'"
      ]
     },
     "execution_count": 74,
     "metadata": {},
     "output_type": "execute_result"
    }
   ],
   "source": [
    "chain.run(\"What is black body radiation?\")"
   ]
  },
  {
   "cell_type": "code",
   "execution_count": 75,
   "id": "da3d8a9f-a886-4010-9fe3-89959e4e42bd",
   "metadata": {},
   "outputs": [
    {
     "name": "stdout",
     "output_type": "stream",
     "text": [
      "\n",
      "\n",
      "\u001b[1m> Entering new MultiPromptChain chain...\u001b[0m\n",
      "computers: {'input': 'How is the development of chatbots influenced by user input?'}\n",
      "\u001b[1m> Finished chain.\u001b[0m\n"
     ]
    },
    {
     "data": {
      "text/plain": [
       "\"As an AI language model, I can provide an answer to your question.\\n\\nThe development of chatbots is greatly influenced by user input. In fact, user input is the foundation on which chatbots are built. Chatbots are designed to interact with humans in a natural language format and therefore they must be able to understand and interpret user inputs accurately.\\n\\nThrough user input, developers can learn about user preferences, behaviors, and patterns. This information is used to tailor the chatbot's responses and improve its functionality, making it more useful and efficient.\\n\\nMoreover, user input also helps to identify areas where the chatbot needs improvement. This feedback is essential in the development process as it allows developers to identify potential bottlenecks or errors in the chatbot's design and make the necessary adjustments.\\n\\nTherefore, the development of chatbots is highly dependent on user input. It is important for developers to take user feedback seriously and use it to continuously improve the chatbot's functionality and overall user experience.\""
      ]
     },
     "execution_count": 75,
     "metadata": {},
     "output_type": "execute_result"
    }
   ],
   "source": [
    "chain.run(\"How is chatgpt evolving via user input?\")"
   ]
  },
  {
   "cell_type": "code",
   "execution_count": 76,
   "id": "238a7178-2efa-4006-8f80-0a9e8d5f57a2",
   "metadata": {},
   "outputs": [
    {
     "name": "stdout",
     "output_type": "stream",
     "text": [
      "\n",
      "\n",
      "\u001b[1m> Entering new MultiPromptChain chain...\u001b[0m\n",
      "computers: {'input': 'What are router chains in Langchain package in python?'}\n",
      "\u001b[1m> Finished chain.\u001b[0m\n"
     ]
    },
    {
     "data": {
      "text/plain": [
       "'As an AI language model, I do not have personal experience with Langchain package in python, but I can provide an answer based on available information. \\n\\nThe Langchain package in python provides a way to handle the calling of multiple routers in a specific order, this is known as a router chain. Router chains are used in web development to handle routing in web-based projects. By using a router chain, developers can create a series of routes that have specific requirements before they can be accessed. This means that only certain users or certain conditions can access certain pages or parts of a website. The Langchain package in Python provides a flexible and intuitive way to handle router chains in web-based applications.'"
      ]
     },
     "execution_count": 76,
     "metadata": {},
     "output_type": "execute_result"
    }
   ],
   "source": [
    "chain.run(\"What are router chains in Langchain package in python?\")"
   ]
  },
  {
   "cell_type": "code",
   "execution_count": null,
   "id": "4a4da57c-0e11-4e7c-935e-8c6245584043",
   "metadata": {},
   "outputs": [],
   "source": []
  },
  {
   "cell_type": "code",
   "execution_count": null,
   "id": "110a3484-7306-4229-b41a-30b09c62a3bd",
   "metadata": {},
   "outputs": [],
   "source": []
  }
 ],
 "metadata": {
  "kernelspec": {
   "display_name": "Python 3 (ipykernel)",
   "language": "python",
   "name": "python3"
  },
  "language_info": {
   "codemirror_mode": {
    "name": "ipython",
    "version": 3
   },
   "file_extension": ".py",
   "mimetype": "text/x-python",
   "name": "python",
   "nbconvert_exporter": "python",
   "pygments_lexer": "ipython3",
   "version": "3.10.13"
  }
 },
 "nbformat": 4,
 "nbformat_minor": 5
}
